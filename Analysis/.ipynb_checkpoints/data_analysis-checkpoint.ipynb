{
 "cells": [
  {
   "cell_type": "markdown",
   "id": "dcb17d88-e092-4b38-a54f-99e67c8735fc",
   "metadata": {},
   "source": [
    "# Análisis de datos - Diagnóstico IA"
   ]
  },
  {
   "cell_type": "markdown",
   "id": "04a6cfdd-fa08-429d-92f1-17c5dd2ffe68",
   "metadata": {},
   "source": [
    "Carga de librerías"
   ]
  },
  {
   "cell_type": "code",
   "execution_count": 3,
   "id": "e6a18bb4-c03f-457e-918a-9c91b58ded49",
   "metadata": {},
   "outputs": [],
   "source": [
    "import pandas as pd\n",
    "import numpy as np\n",
    "import matplotlib.pyplot as plt\n",
    "import seaborn as sns\n",
    "import sklearn\n",
    "import plotly\n",
    "import warnings\n",
    "warnings.filterwarnings('ignore')"
   ]
  },
  {
   "cell_type": "markdown",
   "id": "3ebb976f-253c-4fef-be35-c3b811cbea73",
   "metadata": {},
   "source": [
    "Carga de los datos"
   ]
  },
  {
   "cell_type": "code",
   "execution_count": 4,
   "id": "c930a864-37e5-430e-8bac-70a4a54fe6ae",
   "metadata": {},
   "outputs": [],
   "source": [
    "f = \"encuesta.csv\" # Actualizar según\n",
    "#df = pd.read_csv(f)"
   ]
  },
  {
   "cell_type": "code",
   "execution_count": null,
   "id": "376588db-09ee-4640-8aa8-af27c469d6a0",
   "metadata": {},
   "outputs": [],
   "source": []
  }
 ],
 "metadata": {
  "kernelspec": {
   "display_name": "Python 3 (ipykernel)",
   "language": "python",
   "name": "python3"
  },
  "language_info": {
   "codemirror_mode": {
    "name": "ipython",
    "version": 3
   },
   "file_extension": ".py",
   "mimetype": "text/x-python",
   "name": "python",
   "nbconvert_exporter": "python",
   "pygments_lexer": "ipython3",
   "version": "3.9.5"
  }
 },
 "nbformat": 4,
 "nbformat_minor": 5
}
